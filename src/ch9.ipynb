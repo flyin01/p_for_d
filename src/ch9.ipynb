{
 "cells": [
  {
   "cell_type": "markdown",
   "metadata": {},
   "source": [
    "* ch 9 \n",
    "### Dealing with Errors\n",
    "* Catching Exceptions\n",
    " * Basic Exception Handling\n",
    " * Handling more specific to less specific exceptions\n",
    " * Nested Exception Handling \n",
    "* Raising Exceptions\n",
    "* Creating and Using Custom Exceptions\n",
    "* Using Finally Clause  \n",
    "  \n",
    "Most developers call application errors *exceptions* meanin that they are exception to the rule. The act of detecting and processing an exception is called *error handlig* or *exception handling*. It is important to know when to handle exeptions locally, when to send them to the code that called your code and when to create special excepctions so that every part of the application knows how to handle the exception. There are also times when you must handle exception s gracefully. Python provides ```finally``` clause, which always executes, even when exceptions occurs..  \n",
    "\n",
    "Classifying when errors occur. The two major time frames are:  \n",
    "* Compile time - these are easiest to spot and fix because the application wont run with compile-time errors like syntax error.\n",
    "* Runtime - not all  \n",
    "  \n",
    "Distinguishing erroro types. The trick is to know where to look for errors, Python breaks errors down to these types:  \n",
    "* Syntactical\n",
    "* Semtantic\n",
    "* Logical  \n",
    "  \n",
    "The easiest to find are usually syntactical, followed by semantic and hardest are the logical errors. Example:  \n",
    "  \n",
    "**Syntactical**  \n",
    "Some sort of code typo create a syntactical error, some of these are easy to find since the application wont run. Others are quite hard the reason for, Python is case sensistive and finding the one place where you used the wrong capitalization can be challenging.  \n",
    "  \n",
    "**Semantic**  \n",
    "When you create a loop that executes one too many times you usually dont get any sort of erroro information. The application may happily run since it thinks it is doing everything correctly, but the one additional loop can cause some sort of data errors. So code is correct but the implementaiton is wrong.  \n",
    "  \n",
    "**Logical**  \n",
    "Locigal errors occur when developer thinking is faulty. This can many times happen when relational operators are used incorrectly or in other ways like developer assumes the application will always use local data which means the app will behave in unusual way when accessing remote data. Locial problems can be quite hard to fix since the cause is not the actual code, more the code is incorrectly defined since the thought process that went into creating the code is faulty. Thus the developer who created it is less likely to find it. Using a second pair of eyes or pair review can help finding this erroros."
   ]
  },
  {
   "cell_type": "markdown",
   "metadata": {},
   "source": [
    "**Catching Exceptions**  \n",
    "Generally speaking, a user should never see an excepiton dialog box. Your application should always catch the exception and handle it before the user sees it. Of course, reality is different. But catching every potential exception is still the goal when developing an application.  \n",
    "  \n",
    "Python comes with a bunch of built-in exceptions. See the this [link](https://docs.python.org/3/library/exceptions.html). Here are some:  \n",
    "* Base classes:  \n",
    "Provide essential building blocks like ```ArithmeticError``` exception  \n",
    "* Concrete exceptions:  \n",
    "Apps can experience hard errors. For example when system runs out of memory, ```MemoryError```. Recovering from this might be hard. When user presses interrupt key such as Ctrl+C or Delete, ```KeyboardInterrupt``` the app must handling this exception before proceeding.  \n",
    "* OS exceptions:  \n",
    "For example if application tries to open a file that doest not exists ```FileNotFoundError``` exception is raised.  \n",
    "* Warnings:  \n",
    "If you try to use inapproriately a resource such as an icon ```ResourceWarning```, but this is a warning and not a actual error.  \n",
    "  \n",
    "**Basic Exception Handling**  \n",
    "To handle exceptions we must tell Python that we want to do so and provide code to perform the handling task.  \n",
    "  \n",
    "Handling a single exception.  \n",
    "For example when user provides unexpected `input()` values. We can provide range checking but this does not over come when user type text in place of expected numeric value. Exception handling provides a more complext solution to this problem."
   ]
  },
  {
   "cell_type": "code",
   "execution_count": 1,
   "metadata": {},
   "outputs": [
    {
     "name": "stdin",
     "output_type": "stream",
     "text": [
      "Type a number between 1 and 10:  5\n"
     ]
    },
    {
     "name": "stdout",
     "output_type": "stream",
     "text": [
      "You typed:  5\n"
     ]
    }
   ],
   "source": [
    "# using try except\n",
    "try:\n",
    "    Value = int(input(\"Type a number between 1 and 10: \"))\n",
    "except ValueError:\n",
    "    print(\"You must type a number between 1 and 10!\")\n",
    "else:\n",
    "    \n",
    "    if (Value > 0) and (Value <= 10):\n",
    "        print(\"You typed: \", Value)\n",
    "    else:\n",
    "        print(\"The value you typed is incorrect!\")"
   ]
  },
  {
   "cell_type": "markdown",
   "metadata": {},
   "source": [
    "The code within the ```try``` block has its exception handled. In this case the exception means getting input from user using the ```int(input())```. If an exception occurs outside this block, the code does not handle it. The temptation might be high to enclose all the executable code in a ```try``` block so that every exception would be handled. But we want to make the exception handling small and specific to make locating the problem easier.  \n",
    "  \n",
    "The ```except``` block looks for a specific exception: ```ValueError```, when the user creates this exception by typing a string instead of a numeric value, this exception block is executed. If a user generates some other exception this ```except``` block will not handle it.  \n",
    "  \n",
    "The ```else``` part contains the code that is executed when the ```try``` block code is successful, i.e when it does not generate an exception. The remainder of the code is in this block because we dont want to execute it unless the user does provide valid input. When the user gives a whole number of input, the code can then do the range check to ensure it is correct.  \n",
    "  \n",
    "**Using the except clause withouth an exception**  \n",
    "In most cases we want to provide a specific exception when performing exception handling for various reasons like handling excepitons correctly using specific code for that exception. But sometimes we may need to generate exception-handling such as when working with a third-party library or interaction with external service. We can do this using the ```except``` as below."
   ]
  },
  {
   "cell_type": "code",
   "execution_count": 2,
   "metadata": {},
   "outputs": [
    {
     "name": "stdin",
     "output_type": "stream",
     "text": [
      "Type a number between 1 and 10:  asdf\n"
     ]
    },
    {
     "name": "stdout",
     "output_type": "stream",
     "text": [
      "You must type a number between 1 and 10!\n"
     ]
    }
   ],
   "source": [
    "# using try except\n",
    "try:\n",
    "    Value = int(input(\"Type a number between 1 and 10: \"))\n",
    "except:\n",
    "    print(\"You must type a number between 1 and 10!\")\n",
    "else:\n",
    "    \n",
    "    if (Value > 0) and (Value <= 10):\n",
    "        print(\"You typed: \", Value)\n",
    "    else:\n",
    "        print(\"The value you typed is incorrect!\")"
   ]
  },
  {
   "cell_type": "markdown",
   "metadata": {},
   "source": [
    "Working with exception arguments.  \n",
    "Most exceptions dont provide arguments, i.e a list of values that we can check with additonal info. Exception either occurs or not. However, a few exception provide arguments, it tells us more about the exception and provide details we need to correct it."
   ]
  },
  {
   "cell_type": "code",
   "execution_count": 9,
   "metadata": {},
   "outputs": [
    {
     "name": "stdout",
     "output_type": "stream",
     "text": [
      "Error opening file!\n",
      "Error Number: 2\n",
      "Error Test: No such file or directory\n"
     ]
    }
   ],
   "source": [
    "# exception with arguments\n",
    "import sys\n",
    "\n",
    "try:\n",
    "    File = open('myfile.txt')\n",
    "except IOError as e:\n",
    "    print(\"Error opening file!\\r\\n\" +\n",
    "         \"Error Number: {0}\\r\\n\".format(e.errno) +\n",
    "         \"Error Test: {0}\".format(e.strerror))\n",
    "else:\n",
    "    print(\"File opened as expected.\")\n",
    "    File.close()"
   ]
  },
  {
   "cell_type": "markdown",
   "metadata": {},
   "source": [
    "Trying to open a file that does not exist generates `IOError` exception. This particular exception provides access to two arguments:\n",
    "* `errno` Provides the operatin system error number as an integer\n",
    "* `sterror` Contains the error information in a human readable string."
   ]
  },
  {
   "cell_type": "code",
   "execution_count": 10,
   "metadata": {},
   "outputs": [
    {
     "ename": "FileNotFoundError",
     "evalue": "[Errno 2] No such file or directory: 'myfile.txt'",
     "output_type": "error",
     "traceback": [
      "\u001b[1;31m---------------------------------------------------------------------------\u001b[0m",
      "\u001b[1;31mFileNotFoundError\u001b[0m                         Traceback (most recent call last)",
      "\u001b[1;32m<ipython-input-10-681c205d76b6>\u001b[0m in \u001b[0;36m<module>\u001b[1;34m\u001b[0m\n\u001b[1;32m----> 1\u001b[1;33m \u001b[0mFile\u001b[0m \u001b[1;33m=\u001b[0m \u001b[0mopen\u001b[0m\u001b[1;33m(\u001b[0m\u001b[1;34m'myfile.txt'\u001b[0m\u001b[1;33m)\u001b[0m\u001b[1;33m\u001b[0m\u001b[1;33m\u001b[0m\u001b[0m\n\u001b[0m",
      "\u001b[1;31mFileNotFoundError\u001b[0m: [Errno 2] No such file or directory: 'myfile.txt'"
     ]
    }
   ],
   "source": [
    "# see below for the error when not handled with the except as above\n",
    "File = open('myfile.txt')"
   ]
  },
  {
   "cell_type": "code",
   "execution_count": 12,
   "metadata": {},
   "outputs": [
    {
     "name": "stdout",
     "output_type": "stream",
     "text": [
      "2\n",
      "No such file or directory\n"
     ]
    }
   ],
   "source": [
    "# Get a list of exception arguments\n",
    "import sys\n",
    "\n",
    "try:\n",
    "    File = open('myfile.txt')\n",
    "except IOError as e:\n",
    "    for Arg in e.args:\n",
    "        print(Arg)\n",
    "else:\n",
    "    print(\"File opened as expected.\")\n",
    "    File.close()"
   ]
  },
  {
   "cell_type": "markdown",
   "metadata": {},
   "source": [
    "The `args` property always contains a list of exception arguments in a string format. We can use a `for` loop to print each argument. The only problem is that we are missing the argument names, so we know the output information (which is obvious in this case), but we dont know what to call it.  \n",
    "  \n",
    "Below code displays both the names and the values of each of the arguments."
   ]
  },
  {
   "cell_type": "code",
   "execution_count": 19,
   "metadata": {},
   "outputs": [
    {
     "name": "stdout",
     "output_type": "stream",
     "text": [
      "args  =  (2, 'No such file or directory')\n",
      "Attribute  characters_written  not accessible.\n",
      "errno  =  2\n",
      "filename  =  myfile.txt\n",
      "filename2  =  None\n",
      "strerror  =  No such file or directory\n",
      "winerror  =  None\n",
      "with_traceback  =  <built-in method with_traceback of FileNotFoundError object at 0x0000020F98BFE9C0>\n"
     ]
    }
   ],
   "source": [
    "import sys\n",
    "\n",
    "try:\n",
    "    File = open('myfile.txt')\n",
    "\n",
    "except IOError as e:\n",
    "    for Entry in dir(e):\n",
    "        if (not Entry.startswith(\"_\")):\n",
    "            try:\n",
    "                print(Entry, \" = \", e.__getattribute__(Entry))\n",
    "            except AttributeError:\n",
    "                print(\"Attribute \", Entry, \" not accessible.\")\n",
    "else:\n",
    "    Print(\"File opened as expected.\")\n",
    "    File.close()"
   ]
  },
  {
   "cell_type": "markdown",
   "metadata": {},
   "source": [
    "The output of `dir()` function is a list of strings containing the names of the attributes that you can print. Only arguments that dont start with an underscore (_) contain useful info about the exception.  \n",
    "  \n",
    "Handling multiple exceptions with a single except clause."
   ]
  },
  {
   "cell_type": "code",
   "execution_count": 24,
   "metadata": {},
   "outputs": [
    {
     "name": "stdin",
     "output_type": "stream",
     "text": [
      "Type a number between 1 and 10: 55\n"
     ]
    },
    {
     "name": "stdout",
     "output_type": "stream",
     "text": [
      "The value you typed is not correct\n"
     ]
    }
   ],
   "source": [
    "# multiple exception with single except clause\n",
    "try:\n",
    "    Value = int(input(\"Type a number between 1 and 10:\"))\n",
    "\n",
    "except (ValueError, KeyboardInterrupt):\n",
    "    print(\"You must type a number between 1 and 10!\")\n",
    "else:\n",
    "    \n",
    "    if (Value > 0) and (Value <= 10):\n",
    "        print(\"You typed: \", Value)\n",
    "    else:\n",
    "        print(\"The value you typed is not correct\")"
   ]
  },
  {
   "cell_type": "markdown",
   "metadata": {},
   "source": [
    "Note that the `except`clause now has both a `ValueError`and a `KeyboardInterrupt` exception. These exception appear within parentheses and are separated by commas.  \n",
    "  \n",
    "Handling multiple exceptions with multiple except clause."
   ]
  },
  {
   "cell_type": "code",
   "execution_count": 26,
   "metadata": {},
   "outputs": [
    {
     "name": "stdin",
     "output_type": "stream",
     "text": [
      "Type a number between 1 and 10: 2345\n"
     ]
    },
    {
     "name": "stdout",
     "output_type": "stream",
     "text": [
      "The value you typed is incorrect!\n"
     ]
    }
   ],
   "source": [
    "# multiple exceptions, multiple except clauses\n",
    "try:\n",
    "    Value = int(input(\"Type a number between 1 and 10:\"))\n",
    "except ValueError:\n",
    "    print(\"You must enter a number between 1 and 10!\")\n",
    "except KeyboardInterrupt:\n",
    "    print(\"You pressed Ctrl+C!\")\n",
    "else:\n",
    "    \n",
    "    if (Value > 0) and (Value <= 10):\n",
    "        print(\"You typed: \", Value)\n",
    "    else:\n",
    "        print(\"The value you typed is incorrect!\")"
   ]
  },
  {
   "cell_type": "markdown",
   "metadata": {},
   "source": [
    "**Basic Exception Handling**  \n",
    "JATKA TÄSTÄ..."
   ]
  },
  {
   "cell_type": "code",
   "execution_count": null,
   "metadata": {},
   "outputs": [],
   "source": []
  }
 ],
 "metadata": {
  "kernelspec": {
   "display_name": "Python 3",
   "language": "python",
   "name": "python3"
  },
  "language_info": {
   "codemirror_mode": {
    "name": "ipython",
    "version": 3
   },
   "file_extension": ".py",
   "mimetype": "text/x-python",
   "name": "python",
   "nbconvert_exporter": "python",
   "pygments_lexer": "ipython3",
   "version": "3.8.5"
  }
 },
 "nbformat": 4,
 "nbformat_minor": 4
}
