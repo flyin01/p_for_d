{
 "cells": [
  {
   "cell_type": "markdown",
   "metadata": {},
   "source": [
    "* ch 9 \n",
    "### Dealing with Errors\n",
    "* Catching Exceptions\n",
    " * Basic Exception Handling\n",
    " * Handling more specific to less specific exceptions\n",
    " * Nested Exception Handling \n",
    "* Raising Exceptions\n",
    "* Creating and Using Custom Exceptions\n",
    "* Using Finally Clause  \n",
    "  \n",
    "Most developers call application errors *exceptions* meanin that they are exception to the rule. The act of detecting and processing an exception is called *error handlig* or *exception handling*. It is important to know when to handle exeptions locally, when to send them to the code that called your code and when to create special excepctions so that every part of the application knows how to handle the exception. There are also times when you must handle exception s gracefully. Python provides ```finally``` clause, which always executes, even when exceptions occurs..  \n",
    "\n",
    "Classifying when errors occur. The two major time frames are:  \n",
    "* Compile time - these are easiest to spot and fix because the application wont run with compile-time errors like syntax error.\n",
    "* Runtime - not all  \n",
    "  \n",
    "Distinguishing erroro types. The trick is to know where to look for errors, Python breaks errors down to these types:  \n",
    "* Syntactical\n",
    "* Semtantic\n",
    "* Logical  \n",
    "  \n",
    "The easiest to find are usually syntactical, followed by semantic and hardest are the logical errors. Example:  \n",
    "  \n",
    "**Syntactical**  \n",
    "Some sort of code typo create a syntactical error, some of these are easy to find since the application wont run. Others are quite hard the reason for, Python is case sensistive and finding the one place where you used the wrong capitalization can be challenging.  \n",
    "  \n",
    "**Semantic**  \n",
    "When you create a loop that executes one too many times you usually dont get any sort of erroro information. The application may happily run since it thinks it is doing everything correctly, but the one additional loop can cause some sort of data errors. So code is correct but the implementaiton is wrong.  \n",
    "  \n",
    "**Logical**  \n",
    "Locigal errors occur when developer thinking is faulty. This can many times happen when relational operators are used incorrectly or in other ways like developer assumes the application will always use local data which means the app will behave in unusual way when accessing remote data. Locial problems can be quite hard to fix since the cause is not the actual code, more the code is incorrectly defined since the thought process that went into creating the code is faulty. Thus the developer who created it is less likely to find it. Using a second pair of eyes or pair review can help finding this erroros."
   ]
  },
  {
   "cell_type": "markdown",
   "metadata": {},
   "source": [
    "**Catching Exceptions**  \n",
    "Generally speaking, a user should never see an excepiton dialog box. Your application should always catch the exception and handle it before the user sees it. Of course, reality is different. But catching every potential exception is still the goal when developing an application.  \n",
    "  \n",
    "Python comes with a bunch of built-in exceptions. See the this [link](https://docs.python.org/3/library/exceptions.html). Here are some:  \n",
    "* Base classes:  \n",
    "Provide essential building blocks like ```ArithmeticError``` exception  \n",
    "* Concrete exceptions:  \n",
    "Apps can experience hard errors. For example when system runs out of memory, ```MemoryError```. Recovering from this might be hard. When user presses interrupt key such as Ctrl+C or Delete, ```KeyboardInterrupt``` the app must handling this exception before proceeding.  \n",
    "* OS exceptions:  \n",
    "For example if application tries to open a file that doest not exists ```FileNotFoundError``` exception is raised.  \n",
    "* Warnings:  \n",
    "If you try to use inapproriately a resource such as an icon ```ResourceWarning```, but this is a warning and not a actual error.  \n",
    "  \n",
    "**Basic Exception Handling**  \n",
    "To handle exceptions we must tell Python that we want to do so and provide code to perform the handling task.  \n",
    "  \n",
    "Handling a single exception.  \n",
    "For example when user provides unexpected ```input()``` values. We can provide range checking but this does not over come when user type text in place of expected numeric value. Exception handling provides a more complext solution to this problem."
   ]
  },
  {
   "cell_type": "code",
   "execution_count": 8,
   "metadata": {},
   "outputs": [
    {
     "name": "stdin",
     "output_type": "stream",
     "text": [
      "Type a number between 1 and 10:  \n"
     ]
    },
    {
     "name": "stdout",
     "output_type": "stream",
     "text": [
      "You must type a number between 1 and 10!\n"
     ]
    }
   ],
   "source": [
    "# using try except\n",
    "try:\n",
    "    Value = int(input(\"Type a number between 1 and 10: \"))\n",
    "except ValueError:\n",
    "    print(\"You must type a number between 1 and 10!\")\n",
    "else:\n",
    "    \n",
    "    if (Value > 0) and (Value <= 10):\n",
    "        print(\"You typed: \", Value)\n",
    "    else:\n",
    "        print(\"The value you typed is incorrect!\")"
   ]
  },
  {
   "cell_type": "markdown",
   "metadata": {},
   "source": [
    "The code within the ```try``` block has its exception handled. In this case the exception means getting input from user using the ```int(input())```. If an exception occurs outside this block, the code does not handle it. The temptation might be high to enclose all the executable code in a ```try``` block so that every exception would be handled. But we want to make the exception handling small and specific to make locating the problem easier.  \n",
    "  \n",
    "The ```except``` block looks for a specific exception: ```ValueError```, when the user creates this exception by typing a string instead of a numeric value, this exception block is executed. If a user generates some other exception this ```except``` block will not handle it.  \n",
    "  \n",
    "The ```else``` part contains the code that is executed when the ```try``` block code is successful, i.e when it does not generate an exception. The remainder of the code is in this block because we dont want to execute it unless the user does provide valid input. When the user gives a whole number of input, the code can then do the range check to ensure it is correct.  \n",
    "  \n",
    "**Using the except clause withouth an exception**  \n",
    "In most cases we want to provide a specific exception when performing exception handling for various reasons like handling excepitons correctly using specific code for that exception. But sometimes we may need to generate exception-handling such as when working with a third-party library or interaction with external service. We can do this using the ```except``` as below."
   ]
  },
  {
   "cell_type": "code",
   "execution_count": 11,
   "metadata": {},
   "outputs": [
    {
     "name": "stdin",
     "output_type": "stream",
     "text": [
      "Type a number between 1 and 10:  \n"
     ]
    },
    {
     "name": "stdout",
     "output_type": "stream",
     "text": [
      "You must type a number between 1 and 10!\n"
     ]
    }
   ],
   "source": [
    "# using try except\n",
    "try:\n",
    "    Value = int(input(\"Type a number between 1 and 10: \"))\n",
    "except:\n",
    "    print(\"You must type a number between 1 and 10!\")\n",
    "else:\n",
    "    \n",
    "    if (Value > 0) and (Value <= 10):\n",
    "        print(\"You typed: \", Value)\n",
    "    else:\n",
    "        print(\"The value you typed is incorrect!\")"
   ]
  },
  {
   "cell_type": "code",
   "execution_count": null,
   "metadata": {},
   "outputs": [],
   "source": [
    "# jatka tästä"
   ]
  },
  {
   "cell_type": "code",
   "execution_count": null,
   "metadata": {},
   "outputs": [],
   "source": []
  }
 ],
 "metadata": {
  "kernelspec": {
   "display_name": "Python 3",
   "language": "python",
   "name": "python3"
  },
  "language_info": {
   "codemirror_mode": {
    "name": "ipython",
    "version": 3
   },
   "file_extension": ".py",
   "mimetype": "text/x-python",
   "name": "python",
   "nbconvert_exporter": "python",
   "pygments_lexer": "ipython3",
   "version": "3.8.5"
  }
 },
 "nbformat": 4,
 "nbformat_minor": 4
}
