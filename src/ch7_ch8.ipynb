{
 "cells": [
  {
   "cell_type": "markdown",
   "metadata": {},
   "source": [
    "Based on the book with the same name.  \n",
    "Contains code from each of the chapters 1-20:\n",
    "* ch 7 Making Decisions\n",
    "* ch 8 Performing Repetetive tasks"
   ]
  },
  {
   "cell_type": "markdown",
   "metadata": {},
   "source": [
    "**Making Decisions**  \n",
    "* Using ```if``` \n",
    "* ```if...else``` statements\n",
    "* Chaining multiple decision levels bys nesting statements"
   ]
  },
  {
   "cell_type": "markdown",
   "metadata": {},
   "source": [
    "```if```"
   ]
  },
  {
   "cell_type": "code",
   "execution_count": 28,
   "metadata": {},
   "outputs": [
    {
     "name": "stdout",
     "output_type": "stream",
     "text": [
      "TestMe equals 6!\n"
     ]
    }
   ],
   "source": [
    "# one condition\n",
    "TestMe = int(6)\n",
    "\n",
    "if TestMe == 6:\n",
    "    print(\"TestMe equals 6!\")"
   ]
  },
  {
   "cell_type": "code",
   "execution_count": 29,
   "metadata": {},
   "outputs": [
    {
     "name": "stdout",
     "output_type": "stream",
     "text": [
      "TestMe equals 6 and is an int\n"
     ]
    }
   ],
   "source": [
    "# two conditions using and\n",
    "TestMe = int(6)\n",
    "\n",
    "if (TestMe == 6 and isinstance(TestMe, int) == True):\n",
    "    print(\"TestMe equals 6 and is an int\")"
   ]
  },
  {
   "cell_type": "code",
   "execution_count": 22,
   "metadata": {},
   "outputs": [
    {
     "name": "stdin",
     "output_type": "stream",
     "text": [
      "Add a number between 1 and 10: 5\n"
     ]
    },
    {
     "name": "stdout",
     "output_type": "stream",
     "text": [
      "You typed:  5\n"
     ]
    }
   ],
   "source": [
    "# use input to test two conditions\n",
    "Value = int(input(\"Add a number between 1 and 10:\"))\n",
    "\n",
    "if (Value > 0) and (Value <= 10):\n",
    "    print(\"You typed: \", Value)"
   ]
  },
  {
   "cell_type": "markdown",
   "metadata": {},
   "source": [
    "```if...else```"
   ]
  },
  {
   "cell_type": "code",
   "execution_count": 24,
   "metadata": {},
   "outputs": [
    {
     "name": "stdout",
     "output_type": "stream",
     "text": [
      "TestMe is something else than 6 or is not an int\n"
     ]
    }
   ],
   "source": [
    "# if else \n",
    "TestMe = str(7)\n",
    "\n",
    "if (TestMe == 6 and isinstance(TestMe, int) == True):\n",
    "    print(\"TestMe equals 6 and is an int\")\n",
    "else:\n",
    "    print(\"TestMe is something else than 6 or is not an int\")"
   ]
  },
  {
   "cell_type": "code",
   "execution_count": 27,
   "metadata": {},
   "outputs": [
    {
     "name": "stdin",
     "output_type": "stream",
     "text": [
      "Add a number between 1 and 10: 0\n"
     ]
    },
    {
     "name": "stdout",
     "output_type": "stream",
     "text": [
      "You typed in an incorrect value\n"
     ]
    }
   ],
   "source": [
    "# use input to test two conditions and else statement\n",
    "Value = int(input(\"Add a number between 1 and 10:\"))\n",
    "\n",
    "if (Value > 0) and (Value <= 10):\n",
    "    print(\"You typed: \", Value)\n",
    "else:\n",
    "    print(\"You typed in an incorrect value\")"
   ]
  },
  {
   "cell_type": "code",
   "execution_count": 41,
   "metadata": {},
   "outputs": [
    {
     "name": "stdout",
     "output_type": "stream",
     "text": [
      "1. Red\n",
      "2. Orange\n",
      "3. Yellow\n",
      "4. Green\n",
      "5. Blue\n",
      "6. Purple\n"
     ]
    },
    {
     "name": "stdin",
     "output_type": "stream",
     "text": [
      "Select you favorite color by providing the number for it:  2\n"
     ]
    },
    {
     "name": "stdout",
     "output_type": "stream",
     "text": [
      "You chose Orange\n"
     ]
    }
   ],
   "source": [
    "# using if and elif\n",
    "print(\"1. Red\")\n",
    "print(\"2. Orange\")\n",
    "print(\"3. Yellow\")\n",
    "print(\"4. Green\")\n",
    "print(\"5. Blue\")\n",
    "print(\"6. Purple\")\n",
    "\n",
    "Choice = int(input(\"Select you favorite color by providing the number for it: \"))\n",
    "\n",
    "if (Choice == 1):\n",
    "    print(\"You chose Red!\")\n",
    "elif (Choice == 2):\n",
    "    print(\"You chose Orange\")\n",
    "elif (Choice == 3):\n",
    "    print(\"You chose Yellow\")\n",
    "elif (Choice == 4):\n",
    "    print(\"You chose Green\")\n",
    "elif (Choice == 5):\n",
    "    print(\"You chose Blue\")\n",
    "elif (Choice == 6):\n",
    "    print(\"You chose Purple\")\n",
    "else:\n",
    "    print(\"You made an invalid choice!\")"
   ]
  },
  {
   "cell_type": "markdown",
   "metadata": {},
   "source": [
    "**Using Nested Decision Statements**"
   ]
  },
  {
   "cell_type": "code",
   "execution_count": 47,
   "metadata": {},
   "outputs": [
    {
     "name": "stdin",
     "output_type": "stream",
     "text": [
      "Type first number between 1 and 10:  5\n",
      "Type second number between 1 and 10:  7\n"
     ]
    },
    {
     "name": "stdout",
     "output_type": "stream",
     "text": [
      "You secret number is:  35\n"
     ]
    }
   ],
   "source": [
    "# using if combined with if else is a selection tree\n",
    "\n",
    "One = int(input(\"Type first number between 1 and 10: \"))\n",
    "Two = int(input(\"Type second number between 1 and 10: \"))\n",
    "\n",
    "if (One >= 1) and (One <= 10):\n",
    "    if (Two >= 1) and (Two <= 10):\n",
    "        print(\"You secret number is: \", One * Two)\n",
    "    else:\n",
    "        print(\"Incorrect second value!\")\n",
    "else:\n",
    "    print(\"Incorrect first value!\")"
   ]
  },
  {
   "cell_type": "code",
   "execution_count": 63,
   "metadata": {},
   "outputs": [
    {
     "name": "stdout",
     "output_type": "stream",
     "text": [
      "1. Eggs\n",
      "2. Pancakes\n",
      "3. Waffles\n",
      "4. Oatmeat\n"
     ]
    },
    {
     "name": "stdin",
     "output_type": "stream",
     "text": [
      "Choose a breakfast item by typing it´s number:  4\n"
     ]
    },
    {
     "name": "stdout",
     "output_type": "stream",
     "text": [
      "You chose oatmeal\n"
     ]
    }
   ],
   "source": [
    "# combining other types of decisions\n",
    "print(\"1. Eggs\")\n",
    "print(\"2. Pancakes\")\n",
    "print(\"3. Waffles\")\n",
    "print(\"4. Oatmeat\")\n",
    "MainChoice = int(input(\"Choose a breakfast item by typing it´s number: \"))\n",
    "\n",
    "if (MainChoice == 2):\n",
    "    Meal = \"Pancakes\"\n",
    "elif (MainChoice == 3):\n",
    "    Meal = \"Waffles\"\n",
    "    \n",
    "if (MainChoice == 1):\n",
    "    print(\"1. Wheat Toast\")\n",
    "    print(\"2. Sour Dough\")\n",
    "    print(\"3. Rye Toast\")\n",
    "    print(\"4. Pancakes\")\n",
    "    Bread = int(input(\"Choose a type of bread by typings it´s number: \"))\n",
    "    \n",
    "    if (Bread == 1):\n",
    "        print(\"You chose eggs with what toast\")\n",
    "    elif (Bread == 2):\n",
    "        print(\"You chose eggs with Sour Dough\")\n",
    "    elif (Bread == 3):\n",
    "        print(\"You chose eggs with Rye Toast\")\n",
    "    elif (Bread == 4):\n",
    "        print(\"You chose eggs with Pancakes\")\n",
    "    else:\n",
    "        print(\"We have eggs, but not that kind of bread\")\n",
    "\n",
    "elif (MainChoice == 2) or (MainChoice == 3):\n",
    "    print(\"1. Syrup\")\n",
    "    print(\"2. Strawberries\")\n",
    "    print(\"3. Powdered Sugar\")\n",
    "    Topping = int(input(\"Chose a topping by typing it´s number\"))\n",
    "    \n",
    "    if (Topping == 1):\n",
    "        print(\"You chose \" + Meal + \" with syrup\")\n",
    "    elif (Topping == 2):\n",
    "        print(\"You chose \" + Meal + \" with strawberries\")\n",
    "    elif (Topping == 3):\n",
    "        print(\"You chose \" + Meal + \" with powdered sugar\")\n",
    "    else:\n",
    "        print(\"We have \" + Meal + \" but not that kind of topping\")\n",
    "elif (MainChoice == 4):\n",
    "    print(\"You chose oatmeal\")\n",
    "\n",
    "else:\n",
    "    print(\"we dont serve that breakfast item\")"
   ]
  }
 ],
 "metadata": {
  "kernelspec": {
   "display_name": "Python 3",
   "language": "python",
   "name": "python3"
  },
  "language_info": {
   "codemirror_mode": {
    "name": "ipython",
    "version": 3
   },
   "file_extension": ".py",
   "mimetype": "text/x-python",
   "name": "python",
   "nbconvert_exporter": "python",
   "pygments_lexer": "ipython3",
   "version": "3.8.5"
  }
 },
 "nbformat": 4,
 "nbformat_minor": 4
}
