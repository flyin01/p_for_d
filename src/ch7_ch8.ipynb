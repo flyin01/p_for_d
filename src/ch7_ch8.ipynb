{
 "cells": [
  {
   "cell_type": "markdown",
   "metadata": {},
   "source": [
    "Based on the book with the same name.  \n",
    "Contains code from each of the chapters 1-20:\n",
    "* ch 7 Making Decisions\n",
    "* ch 8 Performing Repetetive tasks"
   ]
  },
  {
   "cell_type": "markdown",
   "metadata": {},
   "source": [
    "### Making Decisions  \n",
    "* Using ```if``` \n",
    "* ```if...else``` statements\n",
    "* Chaining multiple decision levels bys nesting statements"
   ]
  },
  {
   "cell_type": "markdown",
   "metadata": {},
   "source": [
    "```if```"
   ]
  },
  {
   "cell_type": "code",
   "execution_count": 1,
   "metadata": {},
   "outputs": [
    {
     "name": "stdout",
     "output_type": "stream",
     "text": [
      "TestMe equals 6!\n"
     ]
    }
   ],
   "source": [
    "# one condition\n",
    "TestMe = int(6)\n",
    "\n",
    "if TestMe == 6:\n",
    "    print(\"TestMe equals 6!\")"
   ]
  },
  {
   "cell_type": "code",
   "execution_count": 29,
   "metadata": {},
   "outputs": [
    {
     "name": "stdout",
     "output_type": "stream",
     "text": [
      "TestMe equals 6 and is an int\n"
     ]
    }
   ],
   "source": [
    "# two conditions using and\n",
    "TestMe = int(6)\n",
    "\n",
    "if (TestMe == 6 and isinstance(TestMe, int) == True):\n",
    "    print(\"TestMe equals 6 and is an int\")"
   ]
  },
  {
   "cell_type": "code",
   "execution_count": 4,
   "metadata": {},
   "outputs": [
    {
     "name": "stdin",
     "output_type": "stream",
     "text": [
      "Add a number between 1 and 10: 9\n"
     ]
    },
    {
     "name": "stdout",
     "output_type": "stream",
     "text": [
      "You typed:  9\n"
     ]
    }
   ],
   "source": [
    "# use input to test two conditions\n",
    "Value = int(input(\"Add a number between 1 and 10:\"))\n",
    "\n",
    "if (Value > 0) and (Value <= 10):\n",
    "    print(\"You typed: \", Value)"
   ]
  },
  {
   "cell_type": "markdown",
   "metadata": {},
   "source": [
    "```if...else```"
   ]
  },
  {
   "cell_type": "code",
   "execution_count": 6,
   "metadata": {},
   "outputs": [
    {
     "name": "stdout",
     "output_type": "stream",
     "text": [
      "TestMe is something else than 6 or is not an int\n"
     ]
    }
   ],
   "source": [
    "# if else \n",
    "TestMe = str(7)\n",
    "\n",
    "if (TestMe == 6 and isinstance(TestMe, int) == True):\n",
    "    print(\"TestMe equals 6 and is an int\")\n",
    "else:\n",
    "    print(\"TestMe is something else than 6 or is not an int\")"
   ]
  },
  {
   "cell_type": "code",
   "execution_count": 10,
   "metadata": {},
   "outputs": [
    {
     "name": "stdin",
     "output_type": "stream",
     "text": [
      "Add a number between 1 and 10: 11\n"
     ]
    },
    {
     "name": "stdout",
     "output_type": "stream",
     "text": [
      "You typed in an incorrect value\n"
     ]
    }
   ],
   "source": [
    "# use input to test two conditions and else statement\n",
    "Value = int(input(\"Add a number between 1 and 10:\"))\n",
    "\n",
    "if (Value > 0) and (Value <= 10):\n",
    "    print(\"You typed: \", Value)\n",
    "else:\n",
    "    print(\"You typed in an incorrect value\")"
   ]
  },
  {
   "cell_type": "code",
   "execution_count": 11,
   "metadata": {},
   "outputs": [
    {
     "name": "stdout",
     "output_type": "stream",
     "text": [
      "1. Red\n",
      "2. Orange\n",
      "3. Yellow\n",
      "4. Green\n",
      "5. Blue\n",
      "6. Purple\n"
     ]
    },
    {
     "name": "stdin",
     "output_type": "stream",
     "text": [
      "Select you favorite color by providing the number for it:  6\n"
     ]
    },
    {
     "name": "stdout",
     "output_type": "stream",
     "text": [
      "You chose Purple\n"
     ]
    }
   ],
   "source": [
    "# using if and elif\n",
    "print(\"1. Red\")\n",
    "print(\"2. Orange\")\n",
    "print(\"3. Yellow\")\n",
    "print(\"4. Green\")\n",
    "print(\"5. Blue\")\n",
    "print(\"6. Purple\")\n",
    "\n",
    "Choice = int(input(\"Select you favorite color by providing the number for it: \"))\n",
    "\n",
    "if (Choice == 1):\n",
    "    print(\"You chose Red!\")\n",
    "elif (Choice == 2):\n",
    "    print(\"You chose Orange\")\n",
    "elif (Choice == 3):\n",
    "    print(\"You chose Yellow\")\n",
    "elif (Choice == 4):\n",
    "    print(\"You chose Green\")\n",
    "elif (Choice == 5):\n",
    "    print(\"You chose Blue\")\n",
    "elif (Choice == 6):\n",
    "    print(\"You chose Purple\")\n",
    "else:\n",
    "    print(\"You made an invalid choice!\")"
   ]
  },
  {
   "cell_type": "markdown",
   "metadata": {},
   "source": [
    "**Using Nested Decision Statements**"
   ]
  },
  {
   "cell_type": "code",
   "execution_count": 13,
   "metadata": {},
   "outputs": [
    {
     "name": "stdin",
     "output_type": "stream",
     "text": [
      "Type first number between 1 and 10:  5\n",
      "Type second number between 1 and 10:  11\n"
     ]
    },
    {
     "name": "stdout",
     "output_type": "stream",
     "text": [
      "Incorrect second value!\n"
     ]
    }
   ],
   "source": [
    "# using if combined with if else is a selection tree\n",
    "\n",
    "One = int(input(\"Type first number between 1 and 10: \"))\n",
    "Two = int(input(\"Type second number between 1 and 10: \"))\n",
    "\n",
    "if (One >= 1) and (One <= 10):\n",
    "    if (Two >= 1) and (Two <= 10):\n",
    "        print(\"You secret number is: \", One * Two)\n",
    "    else:\n",
    "        print(\"Incorrect second value!\")\n",
    "else:\n",
    "    print(\"Incorrect first value!\")"
   ]
  },
  {
   "cell_type": "code",
   "execution_count": 15,
   "metadata": {},
   "outputs": [
    {
     "name": "stdout",
     "output_type": "stream",
     "text": [
      "1. Eggs\n",
      "2. Pancakes\n",
      "3. Waffles\n",
      "4. Oatmeat\n"
     ]
    },
    {
     "name": "stdin",
     "output_type": "stream",
     "text": [
      "Choose a breakfast item by typing it´s number:  5\n"
     ]
    },
    {
     "name": "stdout",
     "output_type": "stream",
     "text": [
      "we dont serve that breakfast item\n"
     ]
    }
   ],
   "source": [
    "# combining other types of decisions\n",
    "print(\"1. Eggs\")\n",
    "print(\"2. Pancakes\")\n",
    "print(\"3. Waffles\")\n",
    "print(\"4. Oatmeat\")\n",
    "MainChoice = int(input(\"Choose a breakfast item by typing it´s number: \"))\n",
    "\n",
    "if (MainChoice == 2):\n",
    "    Meal = \"Pancakes\"\n",
    "elif (MainChoice == 3):\n",
    "    Meal = \"Waffles\"\n",
    "    \n",
    "if (MainChoice == 1):\n",
    "    print(\"1. Wheat Toast\")\n",
    "    print(\"2. Sour Dough\")\n",
    "    print(\"3. Rye Toast\")\n",
    "    print(\"4. Pancakes\")\n",
    "    Bread = int(input(\"Choose a type of bread by typings it´s number: \"))\n",
    "    \n",
    "    if (Bread == 1):\n",
    "        print(\"You chose eggs with what toast\")\n",
    "    elif (Bread == 2):\n",
    "        print(\"You chose eggs with Sour Dough\")\n",
    "    elif (Bread == 3):\n",
    "        print(\"You chose eggs with Rye Toast\")\n",
    "    elif (Bread == 4):\n",
    "        print(\"You chose eggs with Pancakes\")\n",
    "    else:\n",
    "        print(\"We have eggs, but not that kind of bread\")\n",
    "\n",
    "elif (MainChoice == 2) or (MainChoice == 3):\n",
    "    print(\"1. Syrup\")\n",
    "    print(\"2. Strawberries\")\n",
    "    print(\"3. Powdered Sugar\")\n",
    "    Topping = int(input(\"Chose a topping by typing it´s number\"))\n",
    "    \n",
    "    if (Topping == 1):\n",
    "        print(\"You chose \" + Meal + \" with syrup\")\n",
    "    elif (Topping == 2):\n",
    "        print(\"You chose \" + Meal + \" with strawberries\")\n",
    "    elif (Topping == 3):\n",
    "        print(\"You chose \" + Meal + \" with powdered sugar\")\n",
    "    else:\n",
    "        print(\"We have \" + Meal + \" but not that kind of topping\")\n",
    "elif (MainChoice == 4):\n",
    "    print(\"You chose oatmeal\")\n",
    "\n",
    "else:\n",
    "    print(\"we dont serve that breakfast item\")"
   ]
  },
  {
   "cell_type": "markdown",
   "metadata": {},
   "source": [
    "### Performing Repetetive Tasks\n",
    "* Performing a task a specific number of times\n",
    "* Performing a task until completion\n",
    "* Placing one task loop within another"
   ]
  },
  {
   "cell_type": "code",
   "execution_count": 16,
   "metadata": {},
   "outputs": [
    {
     "name": "stdout",
     "output_type": "stream",
     "text": [
      "Letter  1  is  H\n",
      "Letter  2  is  o\n",
      "Letter  3  is  w\n",
      "Letter  4  is  d\n",
      "Letter  5  is  y\n",
      "Letter  6  is  !\n"
     ]
    }
   ],
   "source": [
    "# basic loop\n",
    "\n",
    "LetterNum = 1\n",
    "\n",
    "for Letter in \"Howdy!\":\n",
    "    print(\"Letter \", LetterNum, \" is \", Letter)\n",
    "    LetterNum+=1"
   ]
  },
  {
   "cell_type": "markdown",
   "metadata": {},
   "source": [
    "The ```break``` statement, controls execution with a break."
   ]
  },
  {
   "cell_type": "code",
   "execution_count": 18,
   "metadata": {},
   "outputs": [
    {
     "name": "stdin",
     "output_type": "stream",
     "text": [
      "Type less than 6 characters:  hejjaa\n"
     ]
    },
    {
     "name": "stdout",
     "output_type": "stream",
     "text": [
      "Letter  1  is  h\n",
      "Letter  2  is  e\n",
      "Letter  3  is  j\n",
      "Letter  4  is  j\n",
      "Letter  5  is  a\n",
      "Letter  6  is  a\n",
      "The string is loo long!\n"
     ]
    }
   ],
   "source": [
    "# control execution with break\n",
    "Value = input(\"Type less than 6 characters: \")\n",
    "LetterNum = 1\n",
    "\n",
    "for Letter in Value:\n",
    "    print(\"Letter \", LetterNum, \" is \", Letter)\n",
    "    LetterNum+=1 # Book suggest this but then it breaks also when length is 6,  alternative added else statement and moved LetterNum+=1 down\n",
    "    if LetterNum > 6:\n",
    "        print(\"The string is loo long!\")\n",
    "        break\n",
    "    #else:\n",
    "    #    LetterNum+=1"
   ]
  },
  {
   "cell_type": "markdown",
   "metadata": {},
   "source": [
    "The ```continue``` statement skips the element and goes to next"
   ]
  },
  {
   "cell_type": "code",
   "execution_count": 21,
   "metadata": {},
   "outputs": [
    {
     "name": "stdout",
     "output_type": "stream",
     "text": [
      "Letter  1  is  H\n",
      "Letter  2  is  o\n",
      "Letter  3  is  d\n",
      "Letter  4  is  y\n",
      "Letter  5  is  !\n"
     ]
    }
   ],
   "source": [
    "# Controlling execution with continue statement\n",
    "\n",
    "LetterNum = 1\n",
    "\n",
    "for Letter in \"Howdy!\":\n",
    "    if Letter == \"w\":    # encountering w, then skip this and continue with next element\n",
    "        continue\n",
    "        print(\"Encountered w, not processed\") # this print is not executed with continue above\n",
    "    print(\"Letter \", LetterNum, \" is \", Letter)\n",
    "    LetterNum+=1"
   ]
  },
  {
   "cell_type": "markdown",
   "metadata": {},
   "source": [
    "The ```pass``` clause works almost like the ```continue``` statement, except it allows completion of the code in the ```if``` block in which it appears. The ```continue``` clause makes it possible to silently bypass specific elements in a sequence, avoiding executing any additional code for that element. Use the ```pass``` clause when we need to perform some sort of post processing on the element, like logging the element in an error log, displaying a message to the user or handling the element in some other way. The ```continue``` and ```pass``` clauses both do the same thing, but they are used in distinctly different situations."
   ]
  },
  {
   "cell_type": "code",
   "execution_count": 84,
   "metadata": {},
   "outputs": [
    {
     "name": "stdout",
     "output_type": "stream",
     "text": [
      "Letter  1  is  H\n",
      "Letter  2  is  o\n",
      "Encountered w, not processed\n",
      "Letter  3  is  w\n",
      "Letter  4  is  d\n",
      "Letter  5  is  y\n",
      "Letter  6  is  !\n"
     ]
    }
   ],
   "source": [
    "# Controlling execution with continue statement\n",
    "\n",
    "LetterNum = 1\n",
    "\n",
    "for Letter in \"Howdy!\":\n",
    "    if Letter == \"w\":    # encountering w, then skip this and continue with next element\n",
    "        pass\n",
    "        print(\"Encountered w, not processed\")   # with pass this print is executed\n",
    "    print(\"Letter \", LetterNum, \" is \", Letter) # all letters are processes\n",
    "    LetterNum+=1"
   ]
  },
  {
   "cell_type": "code",
   "execution_count": 22,
   "metadata": {},
   "outputs": [
    {
     "name": "stdout",
     "output_type": "stream",
     "text": [
      "Letter  1  is  H\n",
      "Letter  2  is  o\n",
      "Encountered w, not processed\n",
      "Letter  3  is  d\n",
      "Letter  4  is  y\n",
      "Letter  5  is  !\n"
     ]
    }
   ],
   "source": [
    "# ...adding to previous with an else statement\n",
    "\n",
    "LetterNum = 1\n",
    "\n",
    "for Letter in \"Howdy!\":\n",
    "    if Letter == \"w\":    # encountering w, then skip this and continue with next element\n",
    "        pass\n",
    "        print(\"Encountered w, not processed\") # with pass this print is executed\n",
    "    else:\n",
    "        print(\"Letter \", LetterNum, \" is \", Letter)\n",
    "        LetterNum+=1"
   ]
  },
  {
   "cell_type": "code",
   "execution_count": 36,
   "metadata": {},
   "outputs": [
    {
     "name": "stdin",
     "output_type": "stream",
     "text": [
      "Type less than 6 characters:  \n"
     ]
    },
    {
     "name": "stdout",
     "output_type": "stream",
     "text": [
      "The string is blank\n"
     ]
    }
   ],
   "source": [
    "# controlling execution with the else statement, when there is nothing to do in the loop\n",
    "Value = input(\"Type less than 6 characters: \")\n",
    "LetterNum =1\n",
    "\n",
    "for Letter in Value:\n",
    "    print(\"Letter \", LetterNum, \" is \", Letter)\n",
    "    LetterNum+=1\n",
    "else:\n",
    "    print(\"The string is blank\") # this prints if nothing is inputed but also if you input something"
   ]
  },
  {
   "cell_type": "code",
   "execution_count": 44,
   "metadata": {},
   "outputs": [
    {
     "name": "stdin",
     "output_type": "stream",
     "text": [
      "Type a string with less than 6 characters:  hoppas\n"
     ]
    },
    {
     "name": "stdout",
     "output_type": "stream",
     "text": [
      "Letter  1  is  h\n",
      "Letter  2  is  o\n",
      "Letter  3  is  p\n",
      "Letter  4  is  p\n",
      "Letter  5  is  a\n",
      "Letter  6  is  s\n"
     ]
    }
   ],
   "source": [
    "# controlling execution with the if statement, else do the loop\n",
    "Value = input(\"Type a string with less than 6 characters: \")\n",
    "LetterNum = 1\n",
    "\n",
    "if len(Value) == 0:\n",
    "    print(\"The string is blank\")\n",
    "    \n",
    "elif len(Value) > 6:\n",
    "    print(\"The string longer than 6 characters\")\n",
    "\n",
    "else:\n",
    "    for Letter in Value:\n",
    "        print(\"Letter \", LetterNum, \" is \", Letter)\n",
    "        LetterNum+=1"
   ]
  },
  {
   "cell_type": "code",
   "execution_count": 27,
   "metadata": {},
   "outputs": [
    {
     "data": {
      "text/plain": [
       "0"
      ]
     },
     "execution_count": 27,
     "metadata": {},
     "output_type": "execute_result"
    }
   ],
   "source": [
    "len(Value)"
   ]
  },
  {
   "cell_type": "markdown",
   "metadata": {},
   "source": [
    "Using the ```while``` statement. The ```while``` statement works with a condition rather than a sequence. It perform a task until the condition is no longer true."
   ]
  },
  {
   "cell_type": "code",
   "execution_count": 45,
   "metadata": {},
   "outputs": [
    {
     "name": "stdout",
     "output_type": "stream",
     "text": [
      "0\n",
      "1\n",
      "2\n",
      "3\n",
      "4\n"
     ]
    }
   ],
   "source": [
    "# using the while statement\n",
    "Sum = 0\n",
    "\n",
    "while Sum < 5:\n",
    "    print(Sum)\n",
    "    Sum+=1"
   ]
  },
  {
   "cell_type": "markdown",
   "metadata": {},
   "source": [
    "Nesting Loop Statements"
   ]
  },
  {
   "cell_type": "code",
   "execution_count": 46,
   "metadata": {},
   "outputs": [
    {
     "name": "stdout",
     "output_type": "stream",
     "text": [
      "        1    2    3    4    5    6    7    8    9   10 \n",
      "   1    1    2    3    4    5    6    7    8    9   10 \n",
      "   2    2    4    6    8   10   12   14   16   18   20 \n",
      "   3    3    6    9   12   15   18   21   24   27   30 \n",
      "   4    4    8   12   16   20   24   28   32   36   40 \n",
      "   5    5   10   15   20   25   30   35   40   45   50 \n",
      "   6    6   12   18   24   30   36   42   48   54   60 \n",
      "   7    7   14   21   28   35   42   49   56   63   70 \n",
      "   8    8   16   24   32   40   48   56   64   72   80 \n",
      "   9    9   18   27   36   45   54   63   72   81   90 \n",
      "  10   10   20   30   40   50   60   70   80   90  100 \n"
     ]
    }
   ],
   "source": [
    "# nesting loop statements\n",
    "\n",
    "X = 1\n",
    "Y = 1\n",
    "\n",
    "print('{:>4}'.format(' '), end= ' ')\n",
    "\n",
    "for X in range(1, 11):\n",
    "    print('{:>4}'.format(X), end= ' ')\n",
    "\n",
    "print()\n",
    "\n",
    "for X in range(1, 11):\n",
    "    print('{:>4}'.format(X), end= ' ')\n",
    "    while Y <= 10:\n",
    "        print('{:>4}'.format(X * Y), end=' ')\n",
    "        Y+=1\n",
    "    print()\n",
    "    Y=1    "
   ]
  },
  {
   "cell_type": "markdown",
   "metadata": {},
   "source": [
    "The code above starts by creating two variables, X and Y, to hold the row and column value of the table. X is the row variable an Y is the column variable.  \n",
    "  \n",
    "To make the table readable, this example must create a heading at the top and another along the side. When users see a 1 at the top and a 1 at the side, and follow these values to where they intersect in the table, they can see the value of the two numbers multiplied.  \n",
    "  \n",
    "The first ```print()``` statement adds a space (because nothing appears in the corner of the table. All the formatting statement says is to create a space 4 characters wide and place a space within it. the ```{:>4}``` part of the code determines what appears in that space. The end attribute of the ```print()``` statement changes the ending character from carriage return to a simple space.  \n",
    "  \n",
    "The first ```for``` loop displays the numbers 1 through 10 at the top of the table. Then ```range()``` function creates the sequence of numbers for you. When using```range()``` function, you specify the staring values, which is 1 in this case, and one more than the ending value, which is 11 in this case.  \n",
    "  \n",
    "At this point, the cursor is sitting at the end of the heading row. To move it to the next line, the code issues a ```print()``` statement with no other info. The next piece of code looks complext, we can figure it out if we look one line at the time. The multiplication table shows the values from 1 * 1 to 10 * 10, so we need ten rows and ten columns to display the info. The ```for``` statement tells Python to create ren rows.  \n",
    "  \n",
    "Look at the resulting table and note row heading. The first ```print()``` call displays the row heading value. Of course, we have to format this info, and the code uses a space of four characters that end with a space, rather than a carriage return, in order to continue printing info in that row.  \n",
    "  \n",
    "The ```while``` loop comes next. This loop prints the columns in an individual row. The column values are the multiplied values of X * Y. The output is formatted to take up four spaces. The ```while``` loop ends when Y is updated to the next value using ```Y+=1```.  \n",
    "  \n",
    "Now we are back into the ```for``` loop. The ```print()``` satement ends the current row. In addition, Y must be reset to 1 so that it is ready for the beginning fo the next row, which begins with 1."
   ]
  },
  {
   "cell_type": "code",
   "execution_count": 62,
   "metadata": {},
   "outputs": [
    {
     "name": "stdout",
     "output_type": "stream",
     "text": [
      "Detta är ett ord\n",
      "Detta är ett annat sätt för samma ord\n",
      "Detta är ett ord och detta är siffran 9\n",
      "Detta är ett annat sätt för samma ord och siffran 9\n"
     ]
    }
   ],
   "source": [
    "# print string + variable, two methods f-string and format\n",
    "X = \"ord\"\n",
    "Y = 9\n",
    "\n",
    "print('Detta är ett {}'.format(X))\n",
    "print(f'Detta är ett annat sätt för samma {X}')\n",
    "\n",
    "print('Detta är ett {} och detta är siffran {}'.format(X, Y))\n",
    "print(f'Detta är ett annat sätt för samma {X} och siffran {Y}')"
   ]
  }
 ],
 "metadata": {
  "kernelspec": {
   "display_name": "Python 3",
   "language": "python",
   "name": "python3"
  },
  "language_info": {
   "codemirror_mode": {
    "name": "ipython",
    "version": 3
   },
   "file_extension": ".py",
   "mimetype": "text/x-python",
   "name": "python",
   "nbconvert_exporter": "python",
   "pygments_lexer": "ipython3",
   "version": "3.8.5"
  }
 },
 "nbformat": 4,
 "nbformat_minor": 4
}
